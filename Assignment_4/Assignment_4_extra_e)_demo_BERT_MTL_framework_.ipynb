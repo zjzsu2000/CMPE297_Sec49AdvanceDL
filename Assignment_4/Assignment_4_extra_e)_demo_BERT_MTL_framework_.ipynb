{
  "nbformat": 4,
  "nbformat_minor": 0,
  "metadata": {
    "colab": {
      "name": "Assignment_4_extra_e) demo_BERT_MTL_framework .ipynb",
      "provenance": [],
      "include_colab_link": true
    }
  },
  "cells": [
    {
      "cell_type": "markdown",
      "metadata": {
        "id": "view-in-github",
        "colab_type": "text"
      },
      "source": [
        "<a href=\"https://colab.research.google.com/github/zjzsu2000/CMPE297_Sec49AdvanceDL/blob/master/Assignment_4/Assignment_4_extra_e)_demo_BERT_MTL_framework_.ipynb\" target=\"_parent\"><img src=\"https://colab.research.google.com/assets/colab-badge.svg\" alt=\"Open In Colab\"/></a>"
      ]
    },
    {
      "cell_type": "markdown",
      "metadata": {
        "id": "p4L7hF9nnP0a"
      },
      "source": [
        "# e) write a colab to demo the BERT MTL framework \n",
        "\n",
        "### This notebook is optionally accelerated with a GPU runtime."
      ]
    },
    {
      "cell_type": "markdown",
      "metadata": {
        "id": "MdaHFZZYn1pK"
      },
      "source": [
        "### References\n",
        "\n",
        "- [BERT: Pre-training of Deep Bidirectional Transformers for Language Understanding][1]\n",
        "- [RoBERTa: A Robustly Optimized BERT Pretraining Approach][2]\n",
        "\n",
        "\n",
        "[1]: https://arxiv.org/abs/1810.04805\n",
        "[2]: https://arxiv.org/abs/1907.11692"
      ]
    },
    {
      "cell_type": "code",
      "metadata": {
        "id": "lsIGWamtnP0b"
      },
      "source": [
        "%%bash\n",
        "pip install regex requests"
      ],
      "execution_count": null,
      "outputs": []
    },
    {
      "cell_type": "code",
      "metadata": {
        "id": "prHJmBeHnP0g"
      },
      "source": [
        "import torch\n",
        "roberta = torch.hub.load('pytorch/fairseq', 'roberta.large')\n",
        "roberta.eval()  # disable dropout (or leave in train mode to finetune)"
      ],
      "execution_count": null,
      "outputs": []
    },
    {
      "cell_type": "markdown",
      "metadata": {
        "id": "0m2tEQQlnP0j"
      },
      "source": [
        "##### Apply Byte-Pair Encoding (BPE) to input text"
      ]
    },
    {
      "cell_type": "code",
      "metadata": {
        "id": "B36Z-idDnP0k"
      },
      "source": [
        "tokens = roberta.encode('Hello world!')\n",
        "assert tokens.tolist() == [0, 31414, 232, 328, 2]\n",
        "assert roberta.decode(tokens) == 'Hello world!'"
      ],
      "execution_count": null,
      "outputs": []
    },
    {
      "cell_type": "markdown",
      "metadata": {
        "id": "6A7FEUk-nP0n"
      },
      "source": [
        "##### Extract features from RoBERTa"
      ]
    },
    {
      "cell_type": "code",
      "metadata": {
        "id": "hZ90DTuGnP0o"
      },
      "source": [
        "# Extract the last layer's features\n",
        "last_layer_features = roberta.extract_features(tokens)\n",
        "assert last_layer_features.size() == torch.Size([1, 5, 1024])\n",
        "\n",
        "# Extract all layer's features (layer 0 is the embedding layer)\n",
        "all_layers = roberta.extract_features(tokens, return_all_hiddens=True)\n",
        "assert len(all_layers) == 25\n",
        "assert torch.all(all_layers[-1] == last_layer_features)"
      ],
      "execution_count": null,
      "outputs": []
    },
    {
      "cell_type": "markdown",
      "metadata": {
        "id": "vheqLMDOnP0q"
      },
      "source": [
        "##### Use RoBERTa for sentence-pair classification tasks"
      ]
    },
    {
      "cell_type": "code",
      "metadata": {
        "id": "TFh2i-gEnP0r"
      },
      "source": [
        "# Download RoBERTa already finetuned for MNLI\n",
        "roberta = torch.hub.load('pytorch/fairseq', 'roberta.large.mnli')\n",
        "roberta.eval()  # disable dropout for evaluation\n",
        "\n",
        "with torch.no_grad():\n",
        "    # Encode a pair of sentences and make a prediction\n",
        "    tokens = roberta.encode('Roberta is a heavily optimized version of BERT.', 'Roberta is not very optimized.')\n",
        "    prediction = roberta.predict('mnli', tokens).argmax().item()\n",
        "    assert prediction == 0  # contradiction\n",
        "\n",
        "    # Encode another pair of sentences\n",
        "    tokens = roberta.encode('Roberta is a heavily optimized version of BERT.', 'Roberta is based on BERT.')\n",
        "    prediction = roberta.predict('mnli', tokens).argmax().item()\n",
        "    assert prediction == 2  # entailment"
      ],
      "execution_count": null,
      "outputs": []
    },
    {
      "cell_type": "markdown",
      "metadata": {
        "id": "TVnmo2ljnP0x"
      },
      "source": [
        "##### Register a new (randomly initialized) classification head"
      ]
    },
    {
      "cell_type": "code",
      "metadata": {
        "id": "XHLKazt8nP0y"
      },
      "source": [
        "roberta.register_classification_head('new_task', num_classes=3)\n",
        "logprobs = roberta.predict('new_task', tokens)  # tensor([[-1.1050, -1.0672, -1.1245]], grad_fn=<LogSoftmaxBackward>)"
      ],
      "execution_count": null,
      "outputs": []
    },
    {
      "cell_type": "markdown",
      "metadata": {
        "id": "pd4ESlxTnP07"
      },
      "source": [
        ""
      ]
    }
  ]
}