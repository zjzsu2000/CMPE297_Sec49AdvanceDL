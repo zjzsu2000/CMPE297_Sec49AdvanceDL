{
  "nbformat": 4,
  "nbformat_minor": 0,
  "metadata": {
    "kernelspec": {
      "display_name": "Python 3",
      "language": "python",
      "name": "python3"
    },
    "language_info": {
      "codemirror_mode": {
        "name": "ipython",
        "version": 3
      },
      "file_extension": ".py",
      "mimetype": "text/x-python",
      "name": "python",
      "nbconvert_exporter": "python",
      "pygments_lexer": "ipython3",
      "version": "3.7.3"
    },
    "colab": {
      "name": "Assignment_4_extra_c)_one_shot_classification_with_Reptile.ipynb",
      "provenance": [],
      "include_colab_link": true
    }
  },
  "cells": [
    {
      "cell_type": "markdown",
      "metadata": {
        "id": "view-in-github",
        "colab_type": "text"
      },
      "source": [
        "<a href=\"https://colab.research.google.com/github/zjzsu2000/CMPE297_Sec49AdvanceDL/blob/master/Assignment_4/Assignment_4_extra_c)_one_shot_classification_with_Reptile.ipynb\" target=\"_parent\"><img src=\"https://colab.research.google.com/assets/colab-badge.svg\" alt=\"Open In Colab\"/></a>"
      ]
    },
    {
      "cell_type": "markdown",
      "metadata": {
        "id": "SwtBGKLbiiis"
      },
      "source": [
        "# Assignment_4_extra_c)_one_shot_classification_with_Reptile\n",
        "\n",
        "Extra points (optional)  \n",
        "c) write **colabs** to demo fomaml and reptile demos"
      ]
    },
    {
      "cell_type": "code",
      "metadata": {
        "id": "yCU8TZ5yiaRZ"
      },
      "source": [
        "import tensorflow as tf\n",
        "tf.logging.set_verbosity(tf.logging.ERROR)\n",
        "\n",
        "import tensorflow_datasets as tfds\n",
        "\n",
        "import numpy as np\n",
        "import matplotlib.pyplot as plt\n",
        "from skimage.transform import resize\n",
        "import random\n",
        "\n",
        "from pretrained_models.bisonai.model import OmniglotModelBisonai"
      ],
      "execution_count": null,
      "outputs": []
    },
    {
      "cell_type": "code",
      "metadata": {
        "id": "2T-nMxuHjc8R",
        "outputId": "b64a2906-1b09-4dbf-fe72-adc023e2b41b",
        "colab": {
          "base_uri": "https://localhost:8080/"
        }
      },
      "source": [
        "from google.colab import drive\n",
        "drive.mount('/content/gdrive')"
      ],
      "execution_count": 1,
      "outputs": [
        {
          "output_type": "stream",
          "text": [
            "Mounted at /content/gdrive\n"
          ],
          "name": "stdout"
        }
      ]
    },
    {
      "cell_type": "markdown",
      "metadata": {
        "id": "4OwWaSqgjN6t"
      },
      "source": [
        "Refs:\n",
        "https://github.com/Bisonai/1-shot-classification-with-reptile"
      ]
    },
    {
      "cell_type": "code",
      "metadata": {
        "id": "whvPqAs0iaRc"
      },
      "source": [
        "### Parameters\n",
        "\n",
        "num_classes = 3\n",
        "learning_rate = 0.001\n",
        "epochs = 5\n",
        "checkpoint_path = \"pretrained_models/bisonai/1shot_3way_bisonai_ckpt_o15t/model.ckpt-99999\"\n",
        "\n",
        "def softmax(x):\n",
        "    e = np.exp(x)\n",
        "    return (e / np.sum(e, axis=1, keepdims=True))"
      ],
      "execution_count": null,
      "outputs": []
    },
    {
      "cell_type": "markdown",
      "metadata": {
        "id": "rDhI7xyuiaRg"
      },
      "source": [
        "## Data for fine-tuning & prediction"
      ]
    },
    {
      "cell_type": "code",
      "metadata": {
        "id": "YSOAdYUwiaRh"
      },
      "source": [
        "sess = tf.Session()\n",
        "\n",
        "omniglot_train = tfds.load(name=\"omniglot\", split=tfds.Split.TRAIN).batch(2000)\n",
        "omniglot_example = omniglot_train.take(1)\n",
        "omniglot_example_iter = omniglot_example.make_initializable_iterator()\n",
        "sess.run(omniglot_example_iter.initializer)\n",
        "\n",
        "data = omniglot_example_iter.get_next()\n",
        "image = data['image']\n",
        "label = data['label']\n",
        "x, y = sess.run([image,label])\n",
        "\n",
        "X_train = resize(np.array(x[:num_classes,:,:,:])/255.0, (3, 28, 28, 1))\n",
        "y_train = np.array(y[:num_classes])"
      ],
      "execution_count": null,
      "outputs": []
    },
    {
      "cell_type": "code",
      "metadata": {
        "id": "PDKQ7zmAiaRm",
        "outputId": "fc9c2253-21be-4b60-90d5-506e29c9d211"
      },
      "source": [
        "print(X_train.shape)\n",
        "y_train"
      ],
      "execution_count": null,
      "outputs": [
        {
          "output_type": "stream",
          "text": [
            "(3, 28, 28, 1)\n"
          ],
          "name": "stdout"
        },
        {
          "output_type": "execute_result",
          "data": {
            "text/plain": [
              "array([512, 854, 887])"
            ]
          },
          "metadata": {
            "tags": []
          },
          "execution_count": 4
        }
      ]
    },
    {
      "cell_type": "code",
      "metadata": {
        "id": "Kpzkb16hiaRr",
        "outputId": "586cbbea-5cf8-4259-805f-54ef1e189b4c"
      },
      "source": [
        "### Showing Images of the 3 classes after reshape 28x28x1\n",
        "\n",
        "plt.figure(figsize=(20,20))\n",
        "plt.subplot(131)\n",
        "imgplot = plt.imshow(X_train[0,:,:,0], cmap=\"gist_gray\")\n",
        "plt.subplot(132)\n",
        "imgplot = plt.imshow(X_train[1,:,:,0], cmap=\"gist_gray\")\n",
        "plt.subplot(133)\n",
        "imgplot = plt.imshow(X_train[2,:,:,0], cmap=\"gist_gray\")"
      ],
      "execution_count": null,
      "outputs": [
        {
          "output_type": "display_data",
          "data": {
            "image/png": "[encoded data removed]",
            "text/plain": [
              "<Figure size 1440x1440 with 3 Axes>"
            ]
          },
          "metadata": {
            "tags": [],
            "needs_background": "light"
          }
        }
      ]
    },
    {
      "cell_type": "code",
      "metadata": {
        "scrolled": false,
        "id": "JT-Vcx2UiaRx"
      },
      "source": [
        "res = sum([np.where(y == c)[0].tolist() for c in y_train], [])\n",
        "[res.remove(i) for i in range(num_classes)]\n",
        "\n",
        "ind = random.choice(res)\n",
        "X_predict = resize(x[ind,:,:,0]/255.0, (28,28)).reshape((1, 28, 28,1))\n",
        "y_predict = y[ind]"
      ],
      "execution_count": null,
      "outputs": []
    },
    {
      "cell_type": "code",
      "metadata": {
        "id": "a1NW1O2hiaR1",
        "outputId": "43475015-121d-47bf-8c22-3909cc3c59f1"
      },
      "source": [
        "###### Showing the image with class to predict\n",
        "\n",
        "plt.figure(figsize=(6,6))\n",
        "imgplot = plt.imshow(X_predict[0,:,:,0], cmap=\"gist_gray\")"
      ],
      "execution_count": null,
      "outputs": [
        {
          "output_type": "display_data",
          "data": {
            "image/png": "[encoded data removed]",
            "text/plain": [
              "<Figure size 432x432 with 1 Axes>"
            ]
          },
          "metadata": {
            "tags": [],
            "needs_background": "light"
          }
        }
      ]
    },
    {
      "cell_type": "markdown",
      "metadata": {
        "id": "su95Sz7aiaR9"
      },
      "source": [
        "## Preparing the model & prediction"
      ]
    },
    {
      "cell_type": "code",
      "metadata": {
        "scrolled": false,
        "id": "rP4x_gu7iaSA"
      },
      "source": [
        "model = OmniglotModelBisonai(num_classes=3, **{'learning_rate':learning_rate})\n",
        "saver = tf.train.Saver()\n",
        "saver.restore(sess, checkpoint_path)"
      ],
      "execution_count": null,
      "outputs": []
    },
    {
      "cell_type": "code",
      "metadata": {
        "scrolled": false,
        "id": "KzH61X4FiaSG",
        "outputId": "354aaab3-2870-45ea-c0fe-fff65d237cb8"
      },
      "source": [
        "y_train_label = np.array([0, 1, 2])\n",
        "\n",
        "adam_var = [i for i in tf.all_variables() if \"Adam_1\" in i.name]\n",
        "\n",
        "for e in range(epochs):\n",
        "\n",
        "    #loss = sess.run(model.loss, feed_dict={model.input_ph: X_train.reshape(X_train.shape[:3]), model.label_ph: y_train_label})\n",
        "    #print(\"loss\", loss)\n",
        "\n",
        "    #logits = sess.run(model.logits, feed_dict={model.input_ph: X_predict.reshape(X_predict.shape[:3])})\n",
        "    #print(\"test softmax\", softmax(logits))\n",
        "    sess.run(model.minimize_op, feed_dict={model.input_ph: X_train.reshape(X_train.shape[:3]), model.label_ph:y_train_label})\n",
        "result, logits = sess.run([model.predictions, model.logits], feed_dict={model.input_ph: X_predict.reshape(X_predict.shape[:3])})\n",
        "\n",
        "print(\"The predicted class number is {} and the real class number is {}.\".format(y_train[result[0]],y_predict))\n",
        "print(\"The probability distribution is {}.\".format(softmax(logits)))"
      ],
      "execution_count": null,
      "outputs": [
        {
          "output_type": "stream",
          "text": [
            "The predicted class number is 887 and the real class number is 887.\n",
            "The probability distribution is [[0.27328706 0.20178133 0.5249316 ]].\n"
          ],
          "name": "stdout"
        }
      ]
    },
    {
      "cell_type": "code",
      "metadata": {
        "id": "BizMx912iaSJ"
      },
      "source": [
        ""
      ],
      "execution_count": null,
      "outputs": []
    }
  ]
}