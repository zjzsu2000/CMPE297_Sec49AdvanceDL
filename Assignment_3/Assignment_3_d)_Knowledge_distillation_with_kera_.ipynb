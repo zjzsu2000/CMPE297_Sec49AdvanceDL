{
  "nbformat": 4,
  "nbformat_minor": 0,
  "metadata": {
    "colab": {
      "name": "Assignment_3_d)  Knowledge distillation with kera .ipynb",
      "provenance": [],
      "collapsed_sections": [],
      "toc_visible": true,
      "include_colab_link": true
    },
    "kernelspec": {
      "name": "python3",
      "display_name": "Python 3"
    },
    "accelerator": "GPU"
  },
  "cells": [
    {
      "cell_type": "markdown",
      "metadata": {
        "id": "view-in-github",
        "colab_type": "text"
      },
      "source": [
        "<a href=\"https://colab.research.google.com/github/zjzsu2000/CMPE297_Sec49AdvanceDL/blob/master/Assignment_3/Assignment_3_d)_Knowledge_distillation_with_kera_.ipynb\" target=\"_parent\"><img src=\"https://colab.research.google.com/assets/colab-badge.svg\" alt=\"Open In Colab\"/></a>"
      ]
    },
    {
      "cell_type": "markdown",
      "metadata": {
        "id": "P6QXhq8_oHaX"
      },
      "source": [
        "# Assignment_3_d)  Knowledge distillation with kera"
      ]
    },
    {
      "cell_type": "markdown",
      "metadata": {
        "id": "xgDCvKEQoDYA"
      },
      "source": [
        "**Optional : Knowledge distillation with kera (knowledge distillation practice - student-teacher training)**"
      ]
    },
    {
      "cell_type": "code",
      "metadata": {
        "id": "cBctyswACU4c"
      },
      "source": [
        "import tensorflow as tf\n",
        "\n",
        "from tensorflow.keras import models\n",
        "from tensorflow.keras import layers\n",
        "\n",
        "tf.random.set_seed(666)"
      ],
      "execution_count": 1,
      "outputs": []
    },
    {
      "cell_type": "markdown",
      "metadata": {
        "id": "Sa56XHw9nwgv"
      },
      "source": [
        "## Load data"
      ]
    },
    {
      "cell_type": "code",
      "metadata": {
        "id": "YrhXamQACk6S",
        "outputId": "e8f27e26-acff-426f-94d1-c695e8aeec58",
        "colab": {
          "base_uri": "https://localhost:8080/",
          "height": 166
        }
      },
      "source": [
        "(X_train, y_train), (X_test, y_test) = tf.keras.datasets.fashion_mnist.load_data()\n",
        "X_train = X_train/255.\n",
        "X_test = X_test/255.\n",
        "\n"
      ],
      "execution_count": 2,
      "outputs": [
        {
          "output_type": "stream",
          "text": [
            "Downloading data from https://storage.googleapis.com/tensorflow/tf-keras-datasets/train-labels-idx1-ubyte.gz\n",
            "32768/29515 [=================================] - 0s 0us/step\n",
            "Downloading data from https://storage.googleapis.com/tensorflow/tf-keras-datasets/train-images-idx3-ubyte.gz\n",
            "26427392/26421880 [==============================] - 0s 0us/step\n",
            "Downloading data from https://storage.googleapis.com/tensorflow/tf-keras-datasets/t10k-labels-idx1-ubyte.gz\n",
            "8192/5148 [===============================================] - 0s 0us/step\n",
            "Downloading data from https://storage.googleapis.com/tensorflow/tf-keras-datasets/t10k-images-idx3-ubyte.gz\n",
            "4423680/4422102 [==============================] - 0s 0us/step\n"
          ],
          "name": "stdout"
        },
        {
          "output_type": "execute_result",
          "data": {
            "text/plain": [
              "((60000, 28, 28), (10000, 28, 28), (60000,), (10000,))"
            ]
          },
          "metadata": {
            "tags": []
          },
          "execution_count": 2
        }
      ]
    },
    {
      "cell_type": "code",
      "metadata": {
        "id": "37hddmW-ovII",
        "outputId": "26bfef16-6b45-4d4e-c4f9-b52dccd42a47",
        "colab": {
          "base_uri": "https://localhost:8080/",
          "height": 33
        }
      },
      "source": [
        "X_train.shape, X_test.shape, y_train.shape, y_test.shape"
      ],
      "execution_count": 3,
      "outputs": [
        {
          "output_type": "execute_result",
          "data": {
            "text/plain": [
              "((60000, 28, 28), (10000, 28, 28), (60000,), (10000,))"
            ]
          },
          "metadata": {
            "tags": []
          },
          "execution_count": 3
        }
      ]
    },
    {
      "cell_type": "markdown",
      "metadata": {
        "id": "ix3V0GvuolJ0"
      },
      "source": [
        "## reshape data"
      ]
    },
    {
      "cell_type": "code",
      "metadata": {
        "id": "ZYeuzIyPCor2"
      },
      "source": [
        "X_train = X_train.astype(\"float32\").reshape(-1, 28, 28, 1)\n",
        "X_test = X_test.astype(\"float32\").reshape(-1, 28, 28, 1)"
      ],
      "execution_count": 4,
      "outputs": []
    },
    {
      "cell_type": "code",
      "metadata": {
        "id": "TVhs4GWRo4F1",
        "outputId": "b61cf9d7-b39f-400e-ad47-3dea22dc6dbb",
        "colab": {
          "base_uri": "https://localhost:8080/",
          "height": 33
        }
      },
      "source": [
        "X_train.shape, X_test.shape, y_train.shape, y_test.shape"
      ],
      "execution_count": 5,
      "outputs": [
        {
          "output_type": "execute_result",
          "data": {
            "text/plain": [
              "((60000, 28, 28, 1), (10000, 28, 28, 1), (60000,), (10000,))"
            ]
          },
          "metadata": {
            "tags": []
          },
          "execution_count": 5
        }
      ]
    },
    {
      "cell_type": "markdown",
      "metadata": {
        "id": "JG33WrEhpEgF"
      },
      "source": [
        "## Define utility function for building a teacher model"
      ]
    },
    {
      "cell_type": "code",
      "metadata": {
        "id": "7R-PxhlfCqtu"
      },
      "source": [
        "def build_teacher_model():\n",
        "    model = models.Sequential()\n",
        "    model.add(layers.Conv2D(16, (5, 5), activation=\"relu\", input_shape=(28, 28, 1)))\n",
        "    model.add(layers.MaxPooling2D(pool_size=(2, 2)))\n",
        "    model.add(layers.Conv2D(32, (5, 5), activation=\"relu\"))\n",
        "    model.add(layers.MaxPooling2D(pool_size=(2, 2)))\n",
        "    model.add(layers.Dropout(0.2))\n",
        "    model.add(layers.Flatten())\n",
        "    model.add(layers.Dense(128, activation=\"relu\"))\n",
        "    model.add(layers.Dense(10))\n",
        "    loss_func = tf.keras.losses.SparseCategoricalCrossentropy(from_logits=True)\n",
        "    optimizer = tf.keras.optimizers.Adam()\n",
        "    model.compile(loss=loss_func, optimizer=optimizer, metrics=[\"accuracy\"])\n",
        "    return model"
      ],
      "execution_count": 9,
      "outputs": []
    },
    {
      "cell_type": "markdown",
      "metadata": {
        "id": "q6f650-eudYe"
      },
      "source": [
        "### Train the teacher model"
      ]
    },
    {
      "cell_type": "code",
      "metadata": {
        "id": "lcBBDW2JDI6y",
        "outputId": "40493ea2-4d79-4266-d599-c1ca4d92f488",
        "colab": {
          "base_uri": "https://localhost:8080/",
          "height": 416
        }
      },
      "source": [
        "train_dataset = tf.data.Dataset.from_tensor_slices((X_train, y_train)).shuffle(100).batch(64)\n",
        "test_dataset = tf.data.Dataset.from_tensor_slices((X_test, y_test)).batch(64)\n",
        "\n",
        "\n",
        "teacher_model = build_teacher_model()\n",
        "teacher_model.summary()"
      ],
      "execution_count": 11,
      "outputs": [
        {
          "output_type": "stream",
          "text": [
            "Model: \"sequential\"\n",
            "_________________________________________________________________\n",
            "Layer (type)                 Output Shape              Param #   \n",
            "=================================================================\n",
            "conv2d (Conv2D)              (None, 24, 24, 16)        416       \n",
            "_________________________________________________________________\n",
            "max_pooling2d (MaxPooling2D) (None, 12, 12, 16)        0         \n",
            "_________________________________________________________________\n",
            "conv2d_1 (Conv2D)            (None, 8, 8, 32)          12832     \n",
            "_________________________________________________________________\n",
            "max_pooling2d_1 (MaxPooling2 (None, 4, 4, 32)          0         \n",
            "_________________________________________________________________\n",
            "dropout (Dropout)            (None, 4, 4, 32)          0         \n",
            "_________________________________________________________________\n",
            "flatten (Flatten)            (None, 512)               0         \n",
            "_________________________________________________________________\n",
            "dense (Dense)                (None, 128)               65664     \n",
            "_________________________________________________________________\n",
            "dense_1 (Dense)              (None, 10)                1290      \n",
            "=================================================================\n",
            "Total params: 80,202\n",
            "Trainable params: 80,202\n",
            "Non-trainable params: 0\n",
            "_________________________________________________________________\n"
          ],
          "name": "stdout"
        }
      ]
    },
    {
      "cell_type": "code",
      "metadata": {
        "id": "r_pZ5g41u1Kk",
        "outputId": "2a07e80d-ea03-46bb-d33a-b23918e80e0a",
        "colab": {
          "base_uri": "https://localhost:8080/",
          "height": 700
        }
      },
      "source": [
        "teacher_model.fit(train_dataset, validation_data=test_dataset,epochs=20)"
      ],
      "execution_count": 12,
      "outputs": [
        {
          "output_type": "stream",
          "text": [
            "Epoch 1/20\n",
            "938/938 [==============================] - 3s 3ms/step - loss: 0.5603 - accuracy: 0.7962 - val_loss: 0.4060 - val_accuracy: 0.8545\n",
            "Epoch 2/20\n",
            "938/938 [==============================] - 3s 3ms/step - loss: 0.3741 - accuracy: 0.8643 - val_loss: 0.3902 - val_accuracy: 0.8586\n",
            "Epoch 3/20\n",
            "938/938 [==============================] - 3s 3ms/step - loss: 0.3292 - accuracy: 0.8798 - val_loss: 0.3440 - val_accuracy: 0.8741\n",
            "Epoch 4/20\n",
            "938/938 [==============================] - 3s 3ms/step - loss: 0.2990 - accuracy: 0.8906 - val_loss: 0.3324 - val_accuracy: 0.8793\n",
            "Epoch 5/20\n",
            "938/938 [==============================] - 3s 3ms/step - loss: 0.2779 - accuracy: 0.8978 - val_loss: 0.3204 - val_accuracy: 0.8833\n",
            "Epoch 6/20\n",
            "938/938 [==============================] - 3s 3ms/step - loss: 0.2622 - accuracy: 0.9031 - val_loss: 0.2912 - val_accuracy: 0.8973\n",
            "Epoch 7/20\n",
            "938/938 [==============================] - 3s 3ms/step - loss: 0.2491 - accuracy: 0.9066 - val_loss: 0.2929 - val_accuracy: 0.8930\n",
            "Epoch 8/20\n",
            "938/938 [==============================] - 3s 3ms/step - loss: 0.2360 - accuracy: 0.9123 - val_loss: 0.2697 - val_accuracy: 0.9012\n",
            "Epoch 9/20\n",
            "938/938 [==============================] - 3s 3ms/step - loss: 0.2257 - accuracy: 0.9150 - val_loss: 0.2844 - val_accuracy: 0.8973\n",
            "Epoch 10/20\n",
            "938/938 [==============================] - 3s 3ms/step - loss: 0.2160 - accuracy: 0.9186 - val_loss: 0.2823 - val_accuracy: 0.8941\n",
            "Epoch 11/20\n",
            "938/938 [==============================] - 3s 3ms/step - loss: 0.2072 - accuracy: 0.9228 - val_loss: 0.2616 - val_accuracy: 0.9077\n",
            "Epoch 12/20\n",
            "938/938 [==============================] - 3s 3ms/step - loss: 0.1979 - accuracy: 0.9255 - val_loss: 0.2650 - val_accuracy: 0.9040\n",
            "Epoch 13/20\n",
            "938/938 [==============================] - 3s 3ms/step - loss: 0.1930 - accuracy: 0.9276 - val_loss: 0.2581 - val_accuracy: 0.9085\n",
            "Epoch 14/20\n",
            "938/938 [==============================] - 3s 3ms/step - loss: 0.1851 - accuracy: 0.9302 - val_loss: 0.2719 - val_accuracy: 0.9048\n",
            "Epoch 15/20\n",
            "938/938 [==============================] - 3s 3ms/step - loss: 0.1782 - accuracy: 0.9331 - val_loss: 0.2635 - val_accuracy: 0.9080\n",
            "Epoch 16/20\n",
            "938/938 [==============================] - 3s 3ms/step - loss: 0.1713 - accuracy: 0.9348 - val_loss: 0.2680 - val_accuracy: 0.9070\n",
            "Epoch 17/20\n",
            "938/938 [==============================] - 3s 3ms/step - loss: 0.1671 - accuracy: 0.9371 - val_loss: 0.2658 - val_accuracy: 0.9086\n",
            "Epoch 18/20\n",
            "938/938 [==============================] - 2s 3ms/step - loss: 0.1640 - accuracy: 0.9380 - val_loss: 0.2818 - val_accuracy: 0.9093\n",
            "Epoch 19/20\n",
            "938/938 [==============================] - 3s 3ms/step - loss: 0.1581 - accuracy: 0.9394 - val_loss: 0.2754 - val_accuracy: 0.9091\n",
            "Epoch 20/20\n",
            "938/938 [==============================] - 3s 3ms/step - loss: 0.1529 - accuracy: 0.9427 - val_loss: 0.2875 - val_accuracy: 0.9037\n"
          ],
          "name": "stdout"
        },
        {
          "output_type": "execute_result",
          "data": {
            "text/plain": [
              "<tensorflow.python.keras.callbacks.History at 0x7f78300d2048>"
            ]
          },
          "metadata": {
            "tags": []
          },
          "execution_count": 12
        }
      ]
    },
    {
      "cell_type": "markdown",
      "metadata": {
        "id": "430Mjjchu8Od"
      },
      "source": [
        "### Evaluate the teacher model"
      ]
    },
    {
      "cell_type": "code",
      "metadata": {
        "id": "P4WjsW0Wvxtx",
        "outputId": "ee6eb4dd-be93-4661-d539-7a8944ccfc3c",
        "colab": {
          "base_uri": "https://localhost:8080/",
          "height": 33
        }
      },
      "source": [
        "evaluate_1=teacher_model.evaluate(test_dataset)[1]*100"
      ],
      "execution_count": 15,
      "outputs": [
        {
          "output_type": "stream",
          "text": [
            "157/157 [==============================] - 0s 2ms/step - loss: 0.2875 - accuracy: 0.9037\n"
          ],
          "name": "stdout"
        }
      ]
    },
    {
      "cell_type": "code",
      "metadata": {
        "id": "OXADzI35Dw3g",
        "outputId": "21c8a53d-97c1-4772-d820-b443669eab62",
        "colab": {
          "base_uri": "https://localhost:8080/",
          "height": 33
        }
      },
      "source": [
        "print(\"Test accuracy: {:.2f}\".format(evaluate_1))\n"
      ],
      "execution_count": 16,
      "outputs": [
        {
          "output_type": "stream",
          "text": [
            "Test accuracy: 90.37\n"
          ],
          "name": "stdout"
        }
      ]
    },
    {
      "cell_type": "markdown",
      "metadata": {
        "id": "tIAGZJwuv-r1"
      },
      "source": [
        "### save the teacher model to .h5 file"
      ]
    },
    {
      "cell_type": "code",
      "metadata": {
        "id": "VrZI6RYSv95w"
      },
      "source": [
        "teacher_model.save_weights(\"teacher_model.h5\")"
      ],
      "execution_count": 18,
      "outputs": []
    },
    {
      "cell_type": "markdown",
      "metadata": {
        "id": "tF8TgH9iwttq"
      },
      "source": [
        "## build the student model"
      ]
    },
    {
      "cell_type": "markdown",
      "metadata": {
        "id": "R1g1Y6axxfbt"
      },
      "source": [
        "refs: https://github.com/google-research/simclr/blob/master/colabs/distillation_self_training.ipynb\n"
      ]
    },
    {
      "cell_type": "code",
      "metadata": {
        "id": "ZjDodllZw42Q"
      },
      "source": [
        "from tensorflow.keras.layers import Input, Dense\n",
        "from tensorflow import nn"
      ],
      "execution_count": 22,
      "outputs": []
    },
    {
      "cell_type": "code",
      "metadata": {
        "id": "shnrhMFQFKwZ"
      },
      "source": [
        "def build_student_model():\n",
        "    model = models.Sequential()\n",
        "    model.add(Input(shape=(28, 28, 1)))\n",
        "    model.add(layers.Flatten())\n",
        "    model.add(Dense(48, activation=\"relu\"))\n",
        "    model.add(Dense(10))    \n",
        "    return model"
      ],
      "execution_count": 31,
      "outputs": []
    },
    {
      "cell_type": "code",
      "metadata": {
        "id": "0o5CQX8syPao"
      },
      "source": [
        "from tensorflow.compat.v1.losses import softmax_cross_entropy\n",
        "from tensorflow.keras.metrics import *\n",
        "from tensorflow.keras.optimizers import *"
      ],
      "execution_count": 29,
      "outputs": []
    },
    {
      "cell_type": "code",
      "metadata": {
        "id": "dPFOtO4mGLIr"
      },
      "source": [
        "def get_kd_loss(teacher_log,student_log,temp=0.5):\n",
        "    teacher_probs = nn.softmax(teacher_log / temp)\n",
        "    kd_loss = softmax_cross_entropy(teacher_probs, student_log/ temp, temp**2)\n",
        "    return kd_loss"
      ],
      "execution_count": 26,
      "outputs": []
    },
    {
      "cell_type": "code",
      "metadata": {
        "id": "KDZ5DWUeGkK2"
      },
      "source": [
        "student_model = build_student_model()\n",
        "optimizer = Adam(learning_rate=0.01)\n",
        "\n",
        "\n",
        "train_loss = Mean(name=\"train_loss\")\n",
        "valid_loss = Mean(name=\"test_loss\")\n",
        "\n",
        "train_acc = SparseCategoricalAccuracy(name=\"train_acc\")\n",
        "valid_acc = SparseCategoricalAccuracy(name=\"valid_acc\")"
      ],
      "execution_count": 33,
      "outputs": []
    },
    {
      "cell_type": "markdown",
      "metadata": {
        "id": "d38gddirzjot"
      },
      "source": [
        "## Train model function"
      ]
    },
    {
      "cell_type": "code",
      "metadata": {
        "id": "5w1sCCqQGeTe"
      },
      "source": [
        "def train_model(images, labels, teacher_model,student_model, optimizer, temp):\n",
        "    teacher_log = teacher_model(images)\n",
        "    with tf.GradientTape() as tape:\n",
        "        student_log = student_model(images)\n",
        "        loss = get_kd_loss(teacher_log, student_log, temp)\n",
        "    \n",
        "    gradients = tape.gradient(loss, student_model.trainable_variables)\n",
        "    optimizer.apply_gradients(zip(gradients, student_model.trainable_variables))\n",
        "\n",
        "    train_loss(loss)\n",
        "    train_acc(labels, nn.softmax(student_log))"
      ],
      "execution_count": 34,
      "outputs": []
    },
    {
      "cell_type": "markdown",
      "metadata": {
        "id": "X9jhFiR40Rju"
      },
      "source": [
        "## Validation funcation"
      ]
    },
    {
      "cell_type": "code",
      "metadata": {
        "id": "qXjapT-hHeP1"
      },
      "source": [
        "def validate_model(images, labels, teacher_model,student_model, temp):\n",
        "    teacher_log = teacher_model(images)\n",
        "    student_log = student_model(images)\n",
        "    loss = get_kd_loss(teacher_log, student_log, temp)\n",
        "    valid_loss(loss)\n",
        "    valid_acc(labels, nn.softmax(student_log))"
      ],
      "execution_count": 35,
      "outputs": []
    },
    {
      "cell_type": "markdown",
      "metadata": {
        "id": "ZE_R8I5R0pT7"
      },
      "source": [
        "## Train whole model"
      ]
    },
    {
      "cell_type": "code",
      "metadata": {
        "id": "ph4r4J_zHqFE"
      },
      "source": [
        "def train_model_all(epochs, teacher_model, student_model, optimizer, temp=0.5):\n",
        "    for epoch in range(epochs):\n",
        "        for (images, labels) in train_dataset:\n",
        "            train_model(images, labels, teacher_model, student_model, optimizer, temp)\n",
        "\n",
        "        for (images, labels) in test_dataset:\n",
        "            validate_model(images, labels, teacher_model, student_model, temp)\n",
        "            \n",
        "        (loss, acc) = train_loss.result(), train_acc.result()\n",
        "        (val_loss, val_acc) = valid_loss.result(), valid_acc.result()\n",
        "        \n",
        "        train_loss.reset_states(), train_acc.reset_states()\n",
        "        valid_loss.reset_states(), valid_acc.reset_states()\n",
        "        \n",
        "        template = \"Epoch {}, loss: {:.3f}, acc: {:.3f}, val_loss: {:.3f}, val_acc: {:.3f}\"\n",
        "        print (template.format(epoch+1,loss,acc,val_loss,val_acc))        \n",
        "    \n",
        "    return teacher_model, student_model"
      ],
      "execution_count": 38,
      "outputs": []
    },
    {
      "cell_type": "code",
      "metadata": {
        "id": "O-breyl1dwNR",
        "outputId": "131e4845-8a08-4195-e68a-dfebb4471d12",
        "colab": {
          "base_uri": "https://localhost:8080/",
          "height": 350
        }
      },
      "source": [
        "_, student_model = train_model_all(20, teacher_model, student_model, optimizer)"
      ],
      "execution_count": 39,
      "outputs": [
        {
          "output_type": "stream",
          "text": [
            "Epoch 1, loss: 0.108, acc: 0.831, val_loss: 0.095, val_acc: 0.851\n",
            "Epoch 2, loss: 0.092, acc: 0.852, val_loss: 0.100, val_acc: 0.845\n",
            "Epoch 3, loss: 0.090, acc: 0.855, val_loss: 0.091, val_acc: 0.848\n",
            "Epoch 4, loss: 0.086, acc: 0.861, val_loss: 0.097, val_acc: 0.850\n",
            "Epoch 5, loss: 0.086, acc: 0.861, val_loss: 0.111, val_acc: 0.841\n",
            "Epoch 6, loss: 0.084, acc: 0.864, val_loss: 0.110, val_acc: 0.834\n",
            "Epoch 7, loss: 0.083, acc: 0.866, val_loss: 0.112, val_acc: 0.829\n",
            "Epoch 8, loss: 0.079, acc: 0.869, val_loss: 0.098, val_acc: 0.848\n",
            "Epoch 9, loss: 0.081, acc: 0.869, val_loss: 0.110, val_acc: 0.838\n",
            "Epoch 10, loss: 0.079, acc: 0.871, val_loss: 0.099, val_acc: 0.844\n",
            "Epoch 11, loss: 0.079, acc: 0.873, val_loss: 0.110, val_acc: 0.831\n",
            "Epoch 12, loss: 0.078, acc: 0.873, val_loss: 0.099, val_acc: 0.846\n",
            "Epoch 13, loss: 0.078, acc: 0.872, val_loss: 0.108, val_acc: 0.842\n",
            "Epoch 14, loss: 0.077, acc: 0.874, val_loss: 0.103, val_acc: 0.850\n",
            "Epoch 15, loss: 0.077, acc: 0.872, val_loss: 0.109, val_acc: 0.835\n",
            "Epoch 16, loss: 0.075, acc: 0.877, val_loss: 0.124, val_acc: 0.816\n",
            "Epoch 17, loss: 0.074, acc: 0.877, val_loss: 0.103, val_acc: 0.844\n",
            "Epoch 18, loss: 0.075, acc: 0.877, val_loss: 0.112, val_acc: 0.830\n",
            "Epoch 19, loss: 0.076, acc: 0.876, val_loss: 0.110, val_acc: 0.840\n",
            "Epoch 20, loss: 0.074, acc: 0.878, val_loss: 0.110, val_acc: 0.837\n"
          ],
          "name": "stdout"
        }
      ]
    },
    {
      "cell_type": "markdown",
      "metadata": {
        "id": "yzYYIEqY1n-i"
      },
      "source": [
        "### save the student model to .h5 file"
      ]
    },
    {
      "cell_type": "code",
      "metadata": {
        "id": "fmLLgmpybLYi"
      },
      "source": [
        "student_model.save_weights(\"student_model.h5\")"
      ],
      "execution_count": 42,
      "outputs": []
    },
    {
      "cell_type": "code",
      "metadata": {
        "id": "rJeZK9enJct9",
        "outputId": "d610eaaa-e35e-48ef-c99f-68d811b68fd1",
        "colab": {
          "base_uri": "https://localhost:8080/",
          "height": 50
        }
      },
      "source": [
        "!ls -lh *.h5"
      ],
      "execution_count": 43,
      "outputs": [
        {
          "output_type": "stream",
          "text": [
            "-rw-r--r-- 1 root root 163K Sep 27 04:43 student_model.h5\n",
            "-rw-r--r-- 1 root root 335K Sep 27 04:11 teacher_model.h5\n"
          ],
          "name": "stdout"
        }
      ]
    },
    {
      "cell_type": "markdown",
      "metadata": {
        "id": "SNfgaGNncnSt"
      },
      "source": [
        "Let's check the total number of trainable params."
      ]
    },
    {
      "cell_type": "code",
      "metadata": {
        "id": "cSHNvya8cYLP",
        "outputId": "1ec7dd78-78d4-4b37-891c-eabd0b196d94",
        "colab": {
          "base_uri": "https://localhost:8080/",
          "height": 416
        }
      },
      "source": [
        "teacher_model.summary()"
      ],
      "execution_count": 44,
      "outputs": [
        {
          "output_type": "stream",
          "text": [
            "Model: \"sequential\"\n",
            "_________________________________________________________________\n",
            "Layer (type)                 Output Shape              Param #   \n",
            "=================================================================\n",
            "conv2d (Conv2D)              (None, 24, 24, 16)        416       \n",
            "_________________________________________________________________\n",
            "max_pooling2d (MaxPooling2D) (None, 12, 12, 16)        0         \n",
            "_________________________________________________________________\n",
            "conv2d_1 (Conv2D)            (None, 8, 8, 32)          12832     \n",
            "_________________________________________________________________\n",
            "max_pooling2d_1 (MaxPooling2 (None, 4, 4, 32)          0         \n",
            "_________________________________________________________________\n",
            "dropout (Dropout)            (None, 4, 4, 32)          0         \n",
            "_________________________________________________________________\n",
            "flatten (Flatten)            (None, 512)               0         \n",
            "_________________________________________________________________\n",
            "dense (Dense)                (None, 128)               65664     \n",
            "_________________________________________________________________\n",
            "dense_1 (Dense)              (None, 10)                1290      \n",
            "=================================================================\n",
            "Total params: 80,202\n",
            "Trainable params: 80,202\n",
            "Non-trainable params: 0\n",
            "_________________________________________________________________\n"
          ],
          "name": "stdout"
        }
      ]
    },
    {
      "cell_type": "code",
      "metadata": {
        "id": "T0-Y1gpDccZ_",
        "outputId": "2e0c8f81-9d9b-4068-9c69-f2168abe4511",
        "colab": {
          "base_uri": "https://localhost:8080/",
          "height": 250
        }
      },
      "source": [
        "student_model.summary()"
      ],
      "execution_count": 45,
      "outputs": [
        {
          "output_type": "stream",
          "text": [
            "Model: \"sequential_2\"\n",
            "_________________________________________________________________\n",
            "Layer (type)                 Output Shape              Param #   \n",
            "=================================================================\n",
            "flatten_2 (Flatten)          (None, 784)               0         \n",
            "_________________________________________________________________\n",
            "dense_4 (Dense)              (None, 48)                37680     \n",
            "_________________________________________________________________\n",
            "dense_5 (Dense)              (None, 10)                490       \n",
            "=================================================================\n",
            "Total params: 38,170\n",
            "Trainable params: 38,170\n",
            "Non-trainable params: 0\n",
            "_________________________________________________________________\n"
          ],
          "name": "stdout"
        }
      ]
    },
    {
      "cell_type": "markdown",
      "metadata": {
        "id": "Y6yDguap4BRE"
      },
      "source": [
        "## save model to .tflite file"
      ]
    },
    {
      "cell_type": "code",
      "metadata": {
        "id": "Z8d0R_ypVp8y"
      },
      "source": [
        "def representative_data_gen():\n",
        "    for input_value in tf.data.Dataset.from_tensor_slices(X_train).batch(1).take(100):\n",
        "        yield [input_value]\n",
        "\n",
        "def convert_to_tflite(model, tflite_file):\n",
        "    converter = tf.lite.TFLiteConverter.from_keras_model(model)\n",
        "    converter.optimizations = [tf.lite.Optimize.DEFAULT]\n",
        "    converter.representative_dataset = representative_data_gen\n",
        "    converter.target_spec.supported_ops = [tf.lite.OpsSet.TFLITE_BUILTINS_INT8]\n",
        "    converter.inference_input_type = tf.int8\n",
        "    converter.inference_output_type = tf.int8\n",
        "    tflite_quant_model = converter.convert()\n",
        "\n",
        "    open(tflite_file, 'wb').write(tflite_quant_model)"
      ],
      "execution_count": 46,
      "outputs": []
    },
    {
      "cell_type": "code",
      "metadata": {
        "id": "bZgxSge7Y3hU",
        "outputId": "be133db4-c13d-400c-e87b-a71bfa6c36d3",
        "colab": {
          "base_uri": "https://localhost:8080/",
          "height": 186
        }
      },
      "source": [
        "convert_to_tflite(teacher_model, \"teacher.tflite\")\n",
        "convert_to_tflite(student_model, \"student.tflite\")"
      ],
      "execution_count": 47,
      "outputs": [
        {
          "output_type": "stream",
          "text": [
            "WARNING:tensorflow:From /usr/local/lib/python3.6/dist-packages/tensorflow/python/training/tracking/tracking.py:111: Model.state_updates (from tensorflow.python.keras.engine.training) is deprecated and will be removed in a future version.\n",
            "Instructions for updating:\n",
            "This property should not be used in TensorFlow 2.0, as updates are applied automatically.\n",
            "WARNING:tensorflow:From /usr/local/lib/python3.6/dist-packages/tensorflow/python/training/tracking/tracking.py:111: Layer.updates (from tensorflow.python.keras.engine.base_layer) is deprecated and will be removed in a future version.\n",
            "Instructions for updating:\n",
            "This property should not be used in TensorFlow 2.0, as updates are applied automatically.\n",
            "INFO:tensorflow:Assets written to: /tmp/tmp1do_2kgn/assets\n",
            "INFO:tensorflow:Assets written to: /tmp/tmp_s1a93ec/assets\n"
          ],
          "name": "stdout"
        },
        {
          "output_type": "stream",
          "text": [
            "INFO:tensorflow:Assets written to: /tmp/tmp_s1a93ec/assets\n"
          ],
          "name": "stderr"
        }
      ]
    },
    {
      "cell_type": "code",
      "metadata": {
        "id": "-f8eGqRtZA-w",
        "outputId": "efa9e46f-0cb4-4b77-c624-eeaab5e1d77f",
        "colab": {
          "base_uri": "https://localhost:8080/",
          "height": 50
        }
      },
      "source": [
        "!ls -lh *.tflite"
      ],
      "execution_count": 48,
      "outputs": [
        {
          "output_type": "stream",
          "text": [
            "-rw-r--r-- 1 root root 40K Sep 27 04:45 student.tflite\n",
            "-rw-r--r-- 1 root root 85K Sep 27 04:45 teacher.tflite\n"
          ],
          "name": "stdout"
        }
      ]
    },
    {
      "cell_type": "code",
      "metadata": {
        "id": "vIryNs0H4jlX",
        "outputId": "1b061123-88f0-41a9-ddeb-3acd752b935c",
        "colab": {
          "base_uri": "https://localhost:8080/",
          "height": 33
        }
      },
      "source": [
        "from google.colab import drive\n",
        "drive.mount('/content/gdrive')"
      ],
      "execution_count": 52,
      "outputs": [
        {
          "output_type": "stream",
          "text": [
            "Mounted at /content/gdrive\n"
          ],
          "name": "stdout"
        }
      ]
    },
    {
      "cell_type": "code",
      "metadata": {
        "id": "tq7sV0_O49ed",
        "outputId": "41052fc8-c0e2-43bd-8c0a-a6b36c55054f",
        "colab": {
          "base_uri": "https://localhost:8080/",
          "height": 50
        }
      },
      "source": [
        "!ls"
      ],
      "execution_count": 55,
      "outputs": [
        {
          "output_type": "stream",
          "text": [
            "gdrive\t     student_model.h5  teacher_model.h5\n",
            "sample_data  student.tflite    teacher.tflite\n"
          ],
          "name": "stdout"
        }
      ]
    },
    {
      "cell_type": "code",
      "metadata": {
        "id": "bfvox5Ah5h8r"
      },
      "source": [
        "!cp *.* gdrive/My\\ Drive/"
      ],
      "execution_count": 58,
      "outputs": []
    }
  ]
}