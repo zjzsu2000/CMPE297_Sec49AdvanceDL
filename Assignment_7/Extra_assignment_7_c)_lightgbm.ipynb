{
  "nbformat": 4,
  "nbformat_minor": 0,
  "metadata": {
    "colab": {
      "name": "Extra_assignment_7_c)_lightgbm.ipynb",
      "provenance": [],
      "collapsed_sections": [],
      "authorship_tag": "ABX9TyMs/MkNHx22M1x4/YHMG/HD",
      "include_colab_link": true
    },
    "kernelspec": {
      "name": "python3",
      "display_name": "Python 3"
    },
    "widgets": {
      "application/vnd.jupyter.widget-state+json": {
        "aa286ab4739945238de57f306e877437": {
          "model_module": "@jupyter-widgets/controls",
          "model_name": "VBoxModel",
          "state": {
            "_view_name": "VBoxView",
            "_dom_classes": [
              "widget-interact"
            ],
            "_model_name": "VBoxModel",
            "_view_module": "@jupyter-widgets/controls",
            "_model_module_version": "1.5.0",
            "_view_count": null,
            "_view_module_version": "1.5.0",
            "box_style": "",
            "layout": "IPY_MODEL_841eb220e9ed4add81d568292b585a6c",
            "_model_module": "@jupyter-widgets/controls",
            "children": [
              "IPY_MODEL_8d43bb85a6c24d2fb90344f97cc4cfc7",
              "IPY_MODEL_6461ba0aabd24e0c9d9921e2bd18020a"
            ]
          }
        },
        "841eb220e9ed4add81d568292b585a6c": {
          "model_module": "@jupyter-widgets/base",
          "model_name": "LayoutModel",
          "state": {
            "_view_name": "LayoutView",
            "grid_template_rows": null,
            "right": null,
            "justify_content": null,
            "_view_module": "@jupyter-widgets/base",
            "overflow": null,
            "_model_module_version": "1.2.0",
            "_view_count": null,
            "flex_flow": null,
            "width": null,
            "min_width": null,
            "border": null,
            "align_items": null,
            "bottom": null,
            "_model_module": "@jupyter-widgets/base",
            "top": null,
            "grid_column": null,
            "overflow_y": null,
            "overflow_x": null,
            "grid_auto_flow": null,
            "grid_area": null,
            "grid_template_columns": null,
            "flex": null,
            "_model_name": "LayoutModel",
            "justify_items": null,
            "grid_row": null,
            "max_height": null,
            "align_content": null,
            "visibility": null,
            "align_self": null,
            "height": null,
            "min_height": null,
            "padding": null,
            "grid_auto_rows": null,
            "grid_gap": null,
            "max_width": null,
            "order": null,
            "_view_module_version": "1.2.0",
            "grid_template_areas": null,
            "object_position": null,
            "object_fit": null,
            "grid_auto_columns": null,
            "margin": null,
            "display": null,
            "left": null
          }
        },
        "8d43bb85a6c24d2fb90344f97cc4cfc7": {
          "model_module": "@jupyter-widgets/controls",
          "model_name": "DropdownModel",
          "state": {
            "_options_labels": [
              "l1",
              "l2"
            ],
            "_view_name": "DropdownView",
            "style": "IPY_MODEL_7b16fce25e0c4bdd9f4ff29f93102c36",
            "_dom_classes": [],
            "description": "metric_name",
            "_model_name": "DropdownModel",
            "index": 1,
            "_view_module": "@jupyter-widgets/controls",
            "_model_module_version": "1.5.0",
            "_view_count": null,
            "disabled": false,
            "_view_module_version": "1.5.0",
            "description_tooltip": null,
            "_model_module": "@jupyter-widgets/controls",
            "layout": "IPY_MODEL_c86a71e655e740f798654e0032da6cfe"
          }
        },
        "6461ba0aabd24e0c9d9921e2bd18020a": {
          "model_module": "@jupyter-widgets/output",
          "model_name": "OutputModel",
          "state": {
            "_view_name": "OutputView",
            "msg_id": "",
            "_dom_classes": [],
            "_model_name": "OutputModel",
            "outputs": [
              {
                "output_type": "display_data",
                "metadata": {
                  "tags": [],
                  "needs_background": "light"
                },
                "image/png": "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\n",
                "text/plain": "<Figure size 720x360 with 1 Axes>"
              }
            ],
            "_view_module": "@jupyter-widgets/output",
            "_model_module_version": "1.0.0",
            "_view_count": null,
            "_view_module_version": "1.0.0",
            "layout": "IPY_MODEL_1d5a62be901f47ed95aa478a22b18624",
            "_model_module": "@jupyter-widgets/output"
          }
        },
        "7b16fce25e0c4bdd9f4ff29f93102c36": {
          "model_module": "@jupyter-widgets/controls",
          "model_name": "DescriptionStyleModel",
          "state": {
            "_view_name": "StyleView",
            "_model_name": "DescriptionStyleModel",
            "description_width": "",
            "_view_module": "@jupyter-widgets/base",
            "_model_module_version": "1.5.0",
            "_view_count": null,
            "_view_module_version": "1.2.0",
            "_model_module": "@jupyter-widgets/controls"
          }
        },
        "c86a71e655e740f798654e0032da6cfe": {
          "model_module": "@jupyter-widgets/base",
          "model_name": "LayoutModel",
          "state": {
            "_view_name": "LayoutView",
            "grid_template_rows": null,
            "right": null,
            "justify_content": null,
            "_view_module": "@jupyter-widgets/base",
            "overflow": null,
            "_model_module_version": "1.2.0",
            "_view_count": null,
            "flex_flow": null,
            "width": null,
            "min_width": null,
            "border": null,
            "align_items": null,
            "bottom": null,
            "_model_module": "@jupyter-widgets/base",
            "top": null,
            "grid_column": null,
            "overflow_y": null,
            "overflow_x": null,
            "grid_auto_flow": null,
            "grid_area": null,
            "grid_template_columns": null,
            "flex": null,
            "_model_name": "LayoutModel",
            "justify_items": null,
            "grid_row": null,
            "max_height": null,
            "align_content": null,
            "visibility": null,
            "align_self": null,
            "height": null,
            "min_height": null,
            "padding": null,
            "grid_auto_rows": null,
            "grid_gap": null,
            "max_width": null,
            "order": null,
            "_view_module_version": "1.2.0",
            "grid_template_areas": null,
            "object_position": null,
            "object_fit": null,
            "grid_auto_columns": null,
            "margin": null,
            "display": null,
            "left": null
          }
        },
        "1d5a62be901f47ed95aa478a22b18624": {
          "model_module": "@jupyter-widgets/base",
          "model_name": "LayoutModel",
          "state": {
            "_view_name": "LayoutView",
            "grid_template_rows": null,
            "right": null,
            "justify_content": null,
            "_view_module": "@jupyter-widgets/base",
            "overflow": null,
            "_model_module_version": "1.2.0",
            "_view_count": null,
            "flex_flow": null,
            "width": null,
            "min_width": null,
            "border": null,
            "align_items": null,
            "bottom": null,
            "_model_module": "@jupyter-widgets/base",
            "top": null,
            "grid_column": null,
            "overflow_y": null,
            "overflow_x": null,
            "grid_auto_flow": null,
            "grid_area": null,
            "grid_template_columns": null,
            "flex": null,
            "_model_name": "LayoutModel",
            "justify_items": null,
            "grid_row": null,
            "max_height": null,
            "align_content": null,
            "visibility": null,
            "align_self": null,
            "height": null,
            "min_height": null,
            "padding": null,
            "grid_auto_rows": null,
            "grid_gap": null,
            "max_width": null,
            "order": null,
            "_view_module_version": "1.2.0",
            "grid_template_areas": null,
            "object_position": null,
            "object_fit": null,
            "grid_auto_columns": null,
            "margin": null,
            "display": null,
            "left": null
          }
        }
      }
    }
  },
  "cells": [
    {
      "cell_type": "markdown",
      "metadata": {
        "id": "view-in-github",
        "colab_type": "text"
      },
      "source": [
        "<a href=\"https://colab.research.google.com/github/zjzsu2000/CMPE297_Sec49AdvanceDL/blob/master/Assignment_7/Extra_assignment_7_c)_lightgbm.ipynb\" target=\"_parent\"><img src=\"https://colab.research.google.com/assets/colab-badge.svg\" alt=\"Open In Colab\"/></a>"
      ]
    },
    {
      "cell_type": "code",
      "metadata": {
        "id": "FjBvZ-AfWAic"
      },
      "source": [
        "import lightgbm as lgb\n"
      ],
      "execution_count": 8,
      "outputs": []
    },
    {
      "cell_type": "code",
      "metadata": {
        "id": "P7wEoIBJWRGj"
      },
      "source": [
        "params = {'boosting_type':'gbdt',\n",
        " 'objective': 'regression',\n",
        " 'device_type':'gpu',\n",
        " 'metric': {'l2', 'l1'},\n",
        " 'num_leaves': 31,\n",
        " 'learning_rate': 0.05,\n",
        " 'feature_fraction': 0.9,\n",
        " 'bagging_fraction': 0.8,\n",
        " 'bagging_freq': 5,\n",
        " 'verbose': 0 }"
      ],
      "execution_count": 31,
      "outputs": []
    },
    {
      "cell_type": "code",
      "metadata": {
        "colab": {
          "base_uri": "https://localhost:8080/"
        },
        "id": "WvYJRG2G3djF",
        "outputId": "bfb5fc3b-85fb-4c28-cd4a-d2621784c13a"
      },
      "source": [
        "!git clone  https://github.com/Microsoft/LightGBM\n",
        "%cd LightGBM\n",
        "!mkdir build\n",
        "!cd build\n"
      ],
      "execution_count": 10,
      "outputs": [
        {
          "output_type": "stream",
          "text": [
            "Cloning into 'LightGBM'...\n",
            "remote: Enumerating objects: 6, done.\u001b[K\n",
            "remote: Counting objects: 100% (6/6), done.\u001b[K\n",
            "remote: Compressing objects: 100% (6/6), done.\u001b[K\n",
            "remote: Total 20652 (delta 1), reused 0 (delta 0), pack-reused 20646\u001b[K\n",
            "Receiving objects: 100% (20652/20652), 16.05 MiB | 28.00 MiB/s, done.\n",
            "Resolving deltas: 100% (15078/15078), done.\n",
            "/content/LightGBM\n"
          ],
          "name": "stdout"
        }
      ]
    },
    {
      "cell_type": "code",
      "metadata": {
        "colab": {
          "base_uri": "https://localhost:8080/"
        },
        "id": "Fz7pmQaKX5fU",
        "outputId": "6402194e-991b-4958-90de-ce6dcc30e782"
      },
      "source": [
        "!ls"
      ],
      "execution_count": 11,
      "outputs": [
        {
          "output_type": "stream",
          "text": [
            "build\t\t\t     compute\t      include\t      src\n",
            "build-cran-package.sh\t     CONTRIBUTING.md  LICENSE\t      swig\n",
            "build_r.R\t\t     docker\t      pmml\t      tests\n",
            "CMakeIntegratedOpenCL.cmake  docs\t      python-package  VERSION.txt\n",
            "CMakeLists.txt\t\t     examples\t      README.md       windows\n",
            "CODE_OF_CONDUCT.md\t     helpers\t      R-package\n"
          ],
          "name": "stdout"
        }
      ]
    },
    {
      "cell_type": "code",
      "metadata": {
        "colab": {
          "base_uri": "https://localhost:8080/"
        },
        "id": "QHCPEGVw3xEq",
        "outputId": "880af21d-af21-4229-f901-4a6183fae95c"
      },
      "source": [
        "!cmake -DUSE_GPU=1"
      ],
      "execution_count": 1,
      "outputs": [
        {
          "output_type": "stream",
          "text": [
            "CMake Error: The source directory \"/content\" does not appear to contain CMakeLists.txt.\n",
            "Specify --help for usage, or press the help button on the CMake GUI.\n"
          ],
          "name": "stdout"
        }
      ]
    },
    {
      "cell_type": "code",
      "metadata": {
        "colab": {
          "base_uri": "https://localhost:8080/"
        },
        "id": "oAz4yudl32be",
        "outputId": "94c06715-3032-496a-9fca-6bf7dcd46f04"
      },
      "source": [
        "!make -j$(nproc)"
      ],
      "execution_count": 13,
      "outputs": [
        {
          "output_type": "stream",
          "text": [
            "\u001b[35m\u001b[1mScanning dependencies of target lightgbm\u001b[0m\n",
            "\u001b[35m\u001b[1mScanning dependencies of target _lightgbm\u001b[0m\n",
            "[  1%] \u001b[32mBuilding CXX object CMakeFiles/lightgbm.dir/src/main.cpp.o\u001b[0m\n",
            "[  2%] \u001b[32mBuilding CXX object CMakeFiles/_lightgbm.dir/src/boosting/boosting.cpp.o\u001b[0m\n",
            "[  4%] \u001b[32mBuilding CXX object CMakeFiles/lightgbm.dir/src/application/application.cpp.o\u001b[0m\n",
            "[  5%] \u001b[32mBuilding CXX object CMakeFiles/lightgbm.dir/src/boosting/boosting.cpp.o\u001b[0m\n",
            "[  7%] \u001b[32mBuilding CXX object CMakeFiles/_lightgbm.dir/src/boosting/gbdt.cpp.o\u001b[0m\n",
            "[  8%] \u001b[32mBuilding CXX object CMakeFiles/_lightgbm.dir/src/boosting/gbdt_model_text.cpp.o\u001b[0m\n",
            "[ 10%] \u001b[32mBuilding CXX object CMakeFiles/lightgbm.dir/src/boosting/gbdt.cpp.o\u001b[0m\n",
            "[ 11%] \u001b[32mBuilding CXX object CMakeFiles/_lightgbm.dir/src/boosting/gbdt_prediction.cpp.o\u001b[0m\n",
            "[ 13%] \u001b[32mBuilding CXX object CMakeFiles/lightgbm.dir/src/boosting/gbdt_model_text.cpp.o\u001b[0m\n",
            "[ 14%] \u001b[32mBuilding CXX object CMakeFiles/_lightgbm.dir/src/boosting/prediction_early_stop.cpp.o\u001b[0m\n",
            "[ 16%] \u001b[32mBuilding CXX object CMakeFiles/_lightgbm.dir/src/io/bin.cpp.o\u001b[0m\n",
            "[ 17%] \u001b[32mBuilding CXX object CMakeFiles/lightgbm.dir/src/boosting/gbdt_prediction.cpp.o\u001b[0m\n",
            "[ 19%] \u001b[32mBuilding CXX object CMakeFiles/lightgbm.dir/src/boosting/prediction_early_stop.cpp.o\u001b[0m\n",
            "[ 20%] \u001b[32mBuilding CXX object CMakeFiles/lightgbm.dir/src/io/bin.cpp.o\u001b[0m\n",
            "[ 22%] \u001b[32mBuilding CXX object CMakeFiles/_lightgbm.dir/src/io/config.cpp.o\u001b[0m\n",
            "[ 23%] \u001b[32mBuilding CXX object CMakeFiles/_lightgbm.dir/src/io/config_auto.cpp.o\u001b[0m\n",
            "[ 25%] \u001b[32mBuilding CXX object CMakeFiles/lightgbm.dir/src/io/config.cpp.o\u001b[0m\n",
            "[ 26%] \u001b[32mBuilding CXX object CMakeFiles/_lightgbm.dir/src/io/dataset.cpp.o\u001b[0m\n",
            "[ 28%] \u001b[32mBuilding CXX object CMakeFiles/lightgbm.dir/src/io/config_auto.cpp.o\u001b[0m\n",
            "[ 29%] \u001b[32mBuilding CXX object CMakeFiles/lightgbm.dir/src/io/dataset.cpp.o\u001b[0m\n",
            "[ 31%] \u001b[32mBuilding CXX object CMakeFiles/_lightgbm.dir/src/io/dataset_loader.cpp.o\u001b[0m\n",
            "[ 32%] \u001b[32mBuilding CXX object CMakeFiles/_lightgbm.dir/src/io/file_io.cpp.o\u001b[0m\n",
            "[ 34%] \u001b[32mBuilding CXX object CMakeFiles/lightgbm.dir/src/io/dataset_loader.cpp.o\u001b[0m\n",
            "[ 35%] \u001b[32mBuilding CXX object CMakeFiles/_lightgbm.dir/src/io/json11.cpp.o\u001b[0m\n",
            "[ 37%] \u001b[32mBuilding CXX object CMakeFiles/_lightgbm.dir/src/io/metadata.cpp.o\u001b[0m\n",
            "[ 38%] \u001b[32mBuilding CXX object CMakeFiles/lightgbm.dir/src/io/file_io.cpp.o\u001b[0m\n",
            "[ 40%] \u001b[32mBuilding CXX object CMakeFiles/lightgbm.dir/src/io/json11.cpp.o\u001b[0m\n",
            "[ 41%] \u001b[32mBuilding CXX object CMakeFiles/_lightgbm.dir/src/io/parser.cpp.o\u001b[0m\n",
            "[ 43%] \u001b[32mBuilding CXX object CMakeFiles/_lightgbm.dir/src/io/train_share_states.cpp.o\u001b[0m\n",
            "[ 44%] \u001b[32mBuilding CXX object CMakeFiles/lightgbm.dir/src/io/metadata.cpp.o\u001b[0m\n",
            "[ 46%] \u001b[32mBuilding CXX object CMakeFiles/_lightgbm.dir/src/io/tree.cpp.o\u001b[0m\n",
            "[ 47%] \u001b[32mBuilding CXX object CMakeFiles/lightgbm.dir/src/io/parser.cpp.o\u001b[0m\n",
            "[ 49%] \u001b[32mBuilding CXX object CMakeFiles/lightgbm.dir/src/io/train_share_states.cpp.o\u001b[0m\n",
            "[ 50%] \u001b[32mBuilding CXX object CMakeFiles/_lightgbm.dir/src/metric/dcg_calculator.cpp.o\u001b[0m\n",
            "[ 52%] \u001b[32mBuilding CXX object CMakeFiles/lightgbm.dir/src/io/tree.cpp.o\u001b[0m\n",
            "[ 53%] \u001b[32mBuilding CXX object CMakeFiles/_lightgbm.dir/src/metric/metric.cpp.o\u001b[0m\n",
            "[ 55%] \u001b[32mBuilding CXX object CMakeFiles/lightgbm.dir/src/metric/dcg_calculator.cpp.o\u001b[0m\n",
            "[ 56%] \u001b[32mBuilding CXX object CMakeFiles/lightgbm.dir/src/metric/metric.cpp.o\u001b[0m\n",
            "[ 58%] \u001b[32mBuilding CXX object CMakeFiles/_lightgbm.dir/src/network/ifaddrs_patch.cpp.o\u001b[0m\n",
            "[ 59%] \u001b[32mBuilding CXX object CMakeFiles/_lightgbm.dir/src/network/linker_topo.cpp.o\u001b[0m\n",
            "[ 61%] \u001b[32mBuilding CXX object CMakeFiles/_lightgbm.dir/src/network/linkers_mpi.cpp.o\u001b[0m\n",
            "[ 62%] \u001b[32mBuilding CXX object CMakeFiles/_lightgbm.dir/src/network/linkers_socket.cpp.o\u001b[0m\n",
            "[ 64%] \u001b[32mBuilding CXX object CMakeFiles/_lightgbm.dir/src/network/network.cpp.o\u001b[0m\n",
            "[ 65%] \u001b[32mBuilding CXX object CMakeFiles/lightgbm.dir/src/network/ifaddrs_patch.cpp.o\u001b[0m\n",
            "[ 67%] \u001b[32mBuilding CXX object CMakeFiles/lightgbm.dir/src/network/linker_topo.cpp.o\u001b[0m\n",
            "[ 68%] \u001b[32mBuilding CXX object CMakeFiles/_lightgbm.dir/src/objective/objective_function.cpp.o\u001b[0m\n",
            "[ 70%] \u001b[32mBuilding CXX object CMakeFiles/lightgbm.dir/src/network/linkers_mpi.cpp.o\u001b[0m\n",
            "[ 71%] \u001b[32mBuilding CXX object CMakeFiles/lightgbm.dir/src/network/linkers_socket.cpp.o\u001b[0m\n",
            "[ 73%] \u001b[32mBuilding CXX object CMakeFiles/lightgbm.dir/src/network/network.cpp.o\u001b[0m\n",
            "[ 74%] \u001b[32mBuilding CXX object CMakeFiles/lightgbm.dir/src/objective/objective_function.cpp.o\u001b[0m\n",
            "[ 76%] \u001b[32mBuilding CXX object CMakeFiles/_lightgbm.dir/src/treelearner/cuda_tree_learner.cpp.o\u001b[0m\n",
            "[ 77%] \u001b[32mBuilding CXX object CMakeFiles/_lightgbm.dir/src/treelearner/data_parallel_tree_learner.cpp.o\u001b[0m\n",
            "[ 79%] \u001b[32mBuilding CXX object CMakeFiles/lightgbm.dir/src/treelearner/cuda_tree_learner.cpp.o\u001b[0m\n",
            "[ 80%] \u001b[32mBuilding CXX object CMakeFiles/lightgbm.dir/src/treelearner/data_parallel_tree_learner.cpp.o\u001b[0m\n",
            "[ 82%] \u001b[32mBuilding CXX object CMakeFiles/_lightgbm.dir/src/treelearner/feature_parallel_tree_learner.cpp.o\u001b[0m\n",
            "[ 83%] \u001b[32mBuilding CXX object CMakeFiles/lightgbm.dir/src/treelearner/feature_parallel_tree_learner.cpp.o\u001b[0m\n",
            "[ 85%] \u001b[32mBuilding CXX object CMakeFiles/_lightgbm.dir/src/treelearner/gpu_tree_learner.cpp.o\u001b[0m\n",
            "[ 86%] \u001b[32mBuilding CXX object CMakeFiles/lightgbm.dir/src/treelearner/gpu_tree_learner.cpp.o\u001b[0m\n",
            "[ 88%] \u001b[32mBuilding CXX object CMakeFiles/_lightgbm.dir/src/treelearner/serial_tree_learner.cpp.o\u001b[0m\n",
            "[ 89%] \u001b[32mBuilding CXX object CMakeFiles/lightgbm.dir/src/treelearner/serial_tree_learner.cpp.o\u001b[0m\n",
            "[ 91%] \u001b[32mBuilding CXX object CMakeFiles/_lightgbm.dir/src/treelearner/tree_learner.cpp.o\u001b[0m\n",
            "[ 92%] \u001b[32mBuilding CXX object CMakeFiles/lightgbm.dir/src/treelearner/tree_learner.cpp.o\u001b[0m\n",
            "[ 94%] \u001b[32mBuilding CXX object CMakeFiles/_lightgbm.dir/src/treelearner/voting_parallel_tree_learner.cpp.o\u001b[0m\n",
            "[ 95%] \u001b[32mBuilding CXX object CMakeFiles/lightgbm.dir/src/treelearner/voting_parallel_tree_learner.cpp.o\u001b[0m\n",
            "[ 97%] \u001b[32mBuilding CXX object CMakeFiles/_lightgbm.dir/src/c_api.cpp.o\u001b[0m\n",
            "[ 98%] \u001b[32m\u001b[1mLinking CXX executable lightgbm\u001b[0m\n",
            "[ 98%] Built target lightgbm\n",
            "[100%] \u001b[32m\u001b[1mLinking CXX shared library lib_lightgbm.so\u001b[0m\n",
            "[100%] Built target _lightgbm\n"
          ],
          "name": "stdout"
        }
      ]
    },
    {
      "cell_type": "code",
      "metadata": {
        "colab": {
          "base_uri": "https://localhost:8080/"
        },
        "id": "GUZy5Vw439XF",
        "outputId": "45481b5c-7f97-4974-baec-46472b33f4cc"
      },
      "source": [
        "!sudo -H pip install setuptools pandas numpy scipy scikit-learn -U"
      ],
      "execution_count": 8,
      "outputs": [
        {
          "output_type": "stream",
          "text": [
            "Requirement already up-to-date: setuptools in /usr/local/lib/python3.6/dist-packages (50.3.2)\n",
            "Requirement already up-to-date: pandas in /usr/local/lib/python3.6/dist-packages (1.1.4)\n",
            "Collecting numpy\n",
            "\u001b[?25l  Downloading https://files.pythonhosted.org/packages/87/86/753182c9085ba4936c0076269a571613387cdb77ae2bf537448bfd63472c/numpy-1.19.4-cp36-cp36m-manylinux2010_x86_64.whl (14.5MB)\n",
            "\u001b[K     |████████████████████████████████| 14.5MB 256kB/s \n",
            "\u001b[?25hCollecting scipy\n",
            "\u001b[?25l  Downloading https://files.pythonhosted.org/packages/c8/89/63171228d5ced148f5ced50305c89e8576ffc695a90b58fe5bb602b910c2/scipy-1.5.4-cp36-cp36m-manylinux1_x86_64.whl (25.9MB)\n",
            "\u001b[K     |████████████████████████████████| 25.9MB 97kB/s \n",
            "\u001b[?25hCollecting scikit-learn\n",
            "\u001b[?25l  Downloading https://files.pythonhosted.org/packages/5c/a1/273def87037a7fb010512bbc5901c31cfddfca8080bc63b42b26e3cc55b3/scikit_learn-0.23.2-cp36-cp36m-manylinux1_x86_64.whl (6.8MB)\n",
            "\u001b[K     |████████████████████████████████| 6.8MB 48.4MB/s \n",
            "\u001b[?25hRequirement already satisfied, skipping upgrade: pytz>=2017.2 in /usr/local/lib/python3.6/dist-packages (from pandas) (2018.9)\n",
            "Requirement already satisfied, skipping upgrade: python-dateutil>=2.7.3 in /usr/local/lib/python3.6/dist-packages (from pandas) (2.8.1)\n",
            "Requirement already satisfied, skipping upgrade: joblib>=0.11 in /usr/local/lib/python3.6/dist-packages (from scikit-learn) (0.17.0)\n",
            "Collecting threadpoolctl>=2.0.0\n",
            "  Downloading https://files.pythonhosted.org/packages/f7/12/ec3f2e203afa394a149911729357aa48affc59c20e2c1c8297a60f33f133/threadpoolctl-2.1.0-py3-none-any.whl\n",
            "Requirement already satisfied, skipping upgrade: six>=1.5 in /usr/local/lib/python3.6/dist-packages (from python-dateutil>=2.7.3->pandas) (1.15.0)\n",
            "\u001b[31mERROR: tensorflow 2.3.0 has requirement numpy<1.19.0,>=1.16.0, but you'll have numpy 1.19.4 which is incompatible.\u001b[0m\n",
            "\u001b[31mERROR: tensorflow 2.3.0 has requirement scipy==1.4.1, but you'll have scipy 1.5.4 which is incompatible.\u001b[0m\n",
            "\u001b[31mERROR: datascience 0.10.6 has requirement folium==0.2.1, but you'll have folium 0.8.3 which is incompatible.\u001b[0m\n",
            "\u001b[31mERROR: albumentations 0.1.12 has requirement imgaug<0.2.7,>=0.2.5, but you'll have imgaug 0.2.9 which is incompatible.\u001b[0m\n",
            "Installing collected packages: numpy, scipy, threadpoolctl, scikit-learn\n",
            "  Found existing installation: numpy 1.18.5\n",
            "    Uninstalling numpy-1.18.5:\n",
            "      Successfully uninstalled numpy-1.18.5\n",
            "  Found existing installation: scipy 1.4.1\n",
            "    Uninstalling scipy-1.4.1:\n",
            "      Successfully uninstalled scipy-1.4.1\n",
            "  Found existing installation: scikit-learn 0.22.2.post1\n",
            "    Uninstalling scikit-learn-0.22.2.post1:\n",
            "      Successfully uninstalled scikit-learn-0.22.2.post1\n",
            "Successfully installed numpy-1.19.4 scikit-learn-0.23.2 scipy-1.5.4 threadpoolctl-2.1.0\n"
          ],
          "name": "stdout"
        }
      ]
    },
    {
      "cell_type": "code",
      "metadata": {
        "id": "sN8SRTjVAZGq"
      },
      "source": [
        "import  numpy as np\n",
        "import scipy"
      ],
      "execution_count": 4,
      "outputs": []
    },
    {
      "cell_type": "code",
      "metadata": {
        "colab": {
          "base_uri": "https://localhost:8080/"
        },
        "id": "gKBqthMN4BFH",
        "outputId": "12aa3d4a-84c6-4728-86a1-079b8b414123"
      },
      "source": [
        "%cd /content/\n"
      ],
      "execution_count": 15,
      "outputs": [
        {
          "output_type": "stream",
          "text": [
            "/content\n"
          ],
          "name": "stdout"
        }
      ]
    },
    {
      "cell_type": "code",
      "metadata": {
        "colab": {
          "base_uri": "https://localhost:8080/"
        },
        "id": "XgJNcMVqOyjB",
        "outputId": "b158e6b4-3a39-456e-81e6-f2bc099c5d7e"
      },
      "source": [
        "!git clone  https://github.com/Microsoft/LightGBM"
      ],
      "execution_count": 4,
      "outputs": [
        {
          "output_type": "stream",
          "text": [
            "Cloning into 'LightGBM'...\n",
            "remote: Enumerating objects: 6, done.\u001b[K\n",
            "remote: Counting objects: 100% (6/6), done.\u001b[K\n",
            "remote: Compressing objects: 100% (6/6), done.\u001b[K\n",
            "remote: Total 20652 (delta 1), reused 0 (delta 0), pack-reused 20646\u001b[K\n",
            "Receiving objects: 100% (20652/20652), 16.07 MiB | 25.47 MiB/s, done.\n",
            "Resolving deltas: 100% (15076/15076), done.\n"
          ],
          "name": "stdout"
        }
      ]
    },
    {
      "cell_type": "code",
      "metadata": {
        "colab": {
          "base_uri": "https://localhost:8080/"
        },
        "id": "SMwweGAUAIOP",
        "outputId": "8a98a31a-a670-4736-dc19-7a650166a80f"
      },
      "source": [
        "!ls"
      ],
      "execution_count": 18,
      "outputs": [
        {
          "output_type": "stream",
          "text": [
            "LightGBM  sample_data\n"
          ],
          "name": "stdout"
        }
      ]
    },
    {
      "cell_type": "code",
      "metadata": {
        "colab": {
          "base_uri": "https://localhost:8080/"
        },
        "id": "8gDaeiqiO2fy",
        "outputId": "168951cc-d2c8-42cc-ee8c-6ef2ac2acb60"
      },
      "source": [
        "%cd /content/LightGBM"
      ],
      "execution_count": 5,
      "outputs": [
        {
          "output_type": "stream",
          "text": [
            "/content/LightGBM\n"
          ],
          "name": "stdout"
        }
      ]
    },
    {
      "cell_type": "code",
      "metadata": {
        "colab": {
          "base_uri": "https://localhost:8080/"
        },
        "id": "L1cla6kFO5Np",
        "outputId": "0e210595-037e-4b3e-fb74-8e9fc289af0b"
      },
      "source": [
        "!ls"
      ],
      "execution_count": 6,
      "outputs": [
        {
          "output_type": "stream",
          "text": [
            "build-cran-package.sh\t     CONTRIBUTING.md  LICENSE\t      swig\n",
            "build_r.R\t\t     docker\t      pmml\t      tests\n",
            "CMakeIntegratedOpenCL.cmake  docs\t      python-package  VERSION.txt\n",
            "CMakeLists.txt\t\t     examples\t      README.md       windows\n",
            "CODE_OF_CONDUCT.md\t     helpers\t      R-package\n",
            "compute\t\t\t     include\t      src\n"
          ],
          "name": "stdout"
        }
      ]
    },
    {
      "cell_type": "code",
      "metadata": {
        "id": "tVq4Pxrr_97O"
      },
      "source": [
        "import pandas as pd"
      ],
      "execution_count": 17,
      "outputs": []
    },
    {
      "cell_type": "code",
      "metadata": {
        "id": "uwRhKVfe_2AA"
      },
      "source": [
        "df_train = pd.read_csv('examples/regression/regression.train', header=None, sep='\\t')\n",
        "df_test = pd.read_csv('examples/regression/regression.test', header=None, sep='\\t')\n",
        "\n",
        "y_train = df_train[0]\n",
        "y_test = df_test[0]\n",
        "X_train = df_train.drop(0, axis=1)\n",
        "X_test = df_test.drop(0, axis=1)"
      ],
      "execution_count": 18,
      "outputs": []
    },
    {
      "cell_type": "code",
      "metadata": {
        "id": "xICFrdzOPZAQ"
      },
      "source": [
        "import pandas as pd\n",
        "import lightgbm as lgb\n",
        "\n",
        "import matplotlib.pyplot as plt\n",
        "\n",
        "%matplotlib inline\n",
        "\n",
        "try:\n",
        "    # To enable interactive mode you should install ipywidgets\n",
        "    # https://github.com/jupyter-widgets/ipywidgets\n",
        "    from ipywidgets import interact, SelectMultiple\n",
        "    INTERACTIVE = True\n",
        "except ImportError:\n",
        "    INTERACTIVE = False"
      ],
      "execution_count": 19,
      "outputs": []
    },
    {
      "cell_type": "code",
      "metadata": {
        "colab": {
          "base_uri": "https://localhost:8080/"
        },
        "id": "8JU6YbiKQDAZ",
        "outputId": "6484d67c-9cda-4863-967a-ded01211d7d7"
      },
      "source": [
        "%cd python-package\n",
        "!python3 setup.py install --gpu "
      ],
      "execution_count": 7,
      "outputs": [
        {
          "output_type": "stream",
          "text": [
            "/content/LightGBM/python-package\n",
            "running install\n",
            "INFO:LightGBM:Starting to compile the library.\n",
            "INFO:LightGBM:Starting to compile with CMake.\n",
            "interrupted\n"
          ],
          "name": "stdout"
        }
      ]
    },
    {
      "cell_type": "code",
      "metadata": {
        "colab": {
          "base_uri": "https://localhost:8080/"
        },
        "id": "O61MpzCRQOGw",
        "outputId": "3c217a96-6fc4-4ff7-957e-f9dad0ffe595"
      },
      "source": [
        "!pip install cmake"
      ],
      "execution_count": 8,
      "outputs": [
        {
          "output_type": "stream",
          "text": [
            "Requirement already satisfied: cmake in /usr/local/lib/python3.6/dist-packages (3.12.0)\n"
          ],
          "name": "stdout"
        }
      ]
    },
    {
      "cell_type": "code",
      "metadata": {
        "colab": {
          "base_uri": "https://localhost:8080/",
          "height": 300
        },
        "id": "cEURtGvmQuEI",
        "outputId": "25b27109-6a57-43b2-9d0f-02b44c218d08"
      },
      "source": [
        "import cmake"
      ],
      "execution_count": 25,
      "outputs": [
        {
          "output_type": "error",
          "ename": "ModuleNotFoundError",
          "evalue": "ignored",
          "traceback": [
            "\u001b[0;31m---------------------------------------------------------------------------\u001b[0m",
            "\u001b[0;31mModuleNotFoundError\u001b[0m                       Traceback (most recent call last)",
            "\u001b[0;32m<ipython-input-25-428411f156f8>\u001b[0m in \u001b[0;36m<module>\u001b[0;34m()\u001b[0m\n\u001b[0;32m----> 1\u001b[0;31m \u001b[0;32mimport\u001b[0m \u001b[0mCMake\u001b[0m\u001b[0;34m\u001b[0m\u001b[0;34m\u001b[0m\u001b[0m\n\u001b[0m",
            "\u001b[0;31mModuleNotFoundError\u001b[0m: No module named 'CMake'",
            "",
            "\u001b[0;31m---------------------------------------------------------------------------\u001b[0;32m\nNOTE: If your import is failing due to a missing package, you can\nmanually install dependencies using either !pip or !apt.\n\nTo view examples of installing some common dependencies, click the\n\"Open Examples\" button below.\n\u001b[0;31m---------------------------------------------------------------------------\u001b[0m\n"
          ]
        }
      ]
    },
    {
      "cell_type": "code",
      "metadata": {
        "colab": {
          "base_uri": "https://localhost:8080/"
        },
        "id": "rt95FTv0R6W2",
        "outputId": "7387d13b-98ca-4027-9465-4511f8848aa3"
      },
      "source": [
        "%cd /content/LightGBM"
      ],
      "execution_count": 13,
      "outputs": [
        {
          "output_type": "stream",
          "text": [
            "/content/LightGBM\n"
          ],
          "name": "stdout"
        }
      ]
    },
    {
      "cell_type": "code",
      "metadata": {
        "colab": {
          "base_uri": "https://localhost:8080/"
        },
        "id": "l_MCHCX8RSxi",
        "outputId": "63a1bd9f-d239-40cd-d2c8-2b8fd670c4b0"
      },
      "source": [
        "!cmake -DUSE_GPU=1"
      ],
      "execution_count": 29,
      "outputs": [
        {
          "output_type": "stream",
          "text": [
            "-- OpenCL include directory: /usr/include\n",
            "-- Boost version: 1.65.1\n",
            "-- Found the following Boost libraries:\n",
            "--   filesystem\n",
            "--   system\n",
            "-- Using _mm_prefetch\n",
            "-- Using _mm_malloc\n",
            "-- Configuring done\n",
            "-- Generating done\n",
            "-- Build files have been written to: /content/LightGBM\n"
          ],
          "name": "stdout"
        }
      ]
    },
    {
      "cell_type": "code",
      "metadata": {
        "id": "wsgTXZN0Pgrb"
      },
      "source": [
        "lgb_train = lgb.Dataset(X_train, y_train)\n",
        "lgb_test = lgb.Dataset(X_test, y_test, reference=lgb_train)"
      ],
      "execution_count": 20,
      "outputs": []
    },
    {
      "cell_type": "code",
      "metadata": {
        "id": "LVIWRKnRPj7A"
      },
      "source": [
        "params = {\n",
        "    'num_leaves': 5,\n",
        "    'metric': ['l1', 'l2'],\n",
        "    'verbose': -1}"
      ],
      "execution_count": 30,
      "outputs": []
    },
    {
      "cell_type": "code",
      "metadata": {
        "colab": {
          "base_uri": "https://localhost:8080/"
        },
        "id": "GxJSUhMM4EbM",
        "outputId": "cea8a8f4-23f3-4e0f-c17d-e1c442741ae2"
      },
      "source": [
        "evals_result = {}  # to record eval results for plotting\n",
        "gbm = lgb.train(params,\n",
        "                lgb_train,\n",
        "                num_boost_round=100,\n",
        "                valid_sets=[lgb_train, lgb_test],\n",
        "                feature_name=['f' + str(i + 1) for i in range(X_train.shape[-1])],\n",
        "                categorical_feature=[21],\n",
        "                evals_result=evals_result,\n",
        "                verbose_eval=10)"
      ],
      "execution_count": 31,
      "outputs": [
        {
          "output_type": "stream",
          "text": [
            "[10]\ttraining's l2: 0.217995\ttraining's l1: 0.457448\tvalid_1's l2: 0.21641\tvalid_1's l1: 0.456464\n",
            "[20]\ttraining's l2: 0.205099\ttraining's l1: 0.436869\tvalid_1's l2: 0.201616\tvalid_1's l1: 0.434057\n",
            "[30]\ttraining's l2: 0.197421\ttraining's l1: 0.421302\tvalid_1's l2: 0.192514\tvalid_1's l1: 0.417019\n",
            "[40]\ttraining's l2: 0.192856\ttraining's l1: 0.411107\tvalid_1's l2: 0.187258\tvalid_1's l1: 0.406303\n",
            "[50]\ttraining's l2: 0.189593\ttraining's l1: 0.403695\tvalid_1's l2: 0.183688\tvalid_1's l1: 0.398997\n",
            "[60]\ttraining's l2: 0.187043\ttraining's l1: 0.398704\tvalid_1's l2: 0.181009\tvalid_1's l1: 0.393977\n",
            "[70]\ttraining's l2: 0.184982\ttraining's l1: 0.394876\tvalid_1's l2: 0.178803\tvalid_1's l1: 0.389805\n",
            "[80]\ttraining's l2: 0.1828\ttraining's l1: 0.391147\tvalid_1's l2: 0.176799\tvalid_1's l1: 0.386476\n",
            "[90]\ttraining's l2: 0.180817\ttraining's l1: 0.388101\tvalid_1's l2: 0.175775\tvalid_1's l1: 0.384404\n",
            "[100]\ttraining's l2: 0.179171\ttraining's l1: 0.385174\tvalid_1's l2: 0.175321\tvalid_1's l1: 0.382929\n"
          ],
          "name": "stdout"
        }
      ]
    },
    {
      "cell_type": "code",
      "metadata": {
        "colab": {
          "base_uri": "https://localhost:8080/",
          "height": 382,
          "referenced_widgets": [
            "aa286ab4739945238de57f306e877437",
            "841eb220e9ed4add81d568292b585a6c",
            "8d43bb85a6c24d2fb90344f97cc4cfc7",
            "6461ba0aabd24e0c9d9921e2bd18020a",
            "7b16fce25e0c4bdd9f4ff29f93102c36",
            "c86a71e655e740f798654e0032da6cfe",
            "1d5a62be901f47ed95aa478a22b18624"
          ]
        },
        "id": "7xpDkb1cTJKr",
        "outputId": "cce6585f-a2ec-4d3b-ac73-ef1273b75791"
      },
      "source": [
        "def render_metric(metric_name):\n",
        "    ax = lgb.plot_metric(evals_result, metric=metric_name, figsize=(10, 5))\n",
        "    plt.show()\n",
        "\n",
        "\n",
        "if INTERACTIVE:\n",
        "    interact(render_metric, metric_name=params['metric'])\n",
        "else:\n",
        "    render_metric(params['metric'][0])"
      ],
      "execution_count": 33,
      "outputs": [
        {
          "output_type": "display_data",
          "data": {
            "application/vnd.jupyter.widget-view+json": {
              "model_id": "aa286ab4739945238de57f306e877437",
              "version_minor": 0,
              "version_major": 2
            },
            "text/plain": [
              "interactive(children=(Dropdown(description='metric_name', options=('l1', 'l2'), value='l1'), Output()), _dom_c…"
            ]
          },
          "metadata": {
            "tags": []
          }
        }
      ]
    },
    {
      "cell_type": "code",
      "metadata": {
        "id": "-BoExXhWQM0N"
      },
      "source": [
        ""
      ],
      "execution_count": null,
      "outputs": []
    }
  ]
}